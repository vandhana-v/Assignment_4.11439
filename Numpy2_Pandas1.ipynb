{
 "cells": [
  {
   "cell_type": "code",
   "execution_count": 60,
   "metadata": {},
   "outputs": [],
   "source": [
    "import numpy as np\n",
    "import pandas as pd\n"
   ]
  },
  {
   "cell_type": "code",
   "execution_count": 74,
   "metadata": {},
   "outputs": [
    {
     "name": "stdout",
     "output_type": "stream",
     "text": [
      "Output array of window size 3: [3 5 7]\n",
      "Output array of window size 3: [5 7 2]\n",
      "Output array of window size 3: [7 2 8]\n",
      "Output array of window size 3: [ 2  8 10]\n",
      "Output array of window size 3: [ 8 10 11]\n",
      "Output array of window size 3: [10 11 65]\n",
      "Output array of window size 3: [11 65 72]\n",
      "Output array of window size 3: [65 72 81]\n",
      "Output array of window size 3: [72 81 99]\n",
      "Output array of window size 3: [ 81  99 100]\n",
      "Output array of window size 3: [ 99 100 150]\n",
      "Moving average sequence: [5, 4, 5, 6, 9, 28, 49, 72, 84, 93, 116]\n"
     ]
    }
   ],
   "source": [
    "'''Task 1.\n",
    "1. Given a sequence of n values x1, x2, ..., xn and a window size k>0, the k-th moving average of\n",
    "the given sequence is defined as follows:\n",
    "The moving average sequence has n-k+1 elements as shown below.\n",
    "The moving averages with k=4 of a ten-value sequence (n=10) is shown below'''\n",
    "\n",
    "#input list\n",
    "input_list=[3, 5, 7, 2, 8, 10, 11, 65, 72, 81, 99, 100, 150]\n",
    "#window size\n",
    "k=3\n",
    "output_list=[]\n",
    "\n",
    "#iterate through the input_list over a window size k = 3\n",
    "for i in range(len(input_list)):\n",
    "    \n",
    "    #moving window index\n",
    "    window = i + k\n",
    "    \n",
    "    #break the loop if moving window index exceeds the input_list size\n",
    "    if(window > len(input_list)):\n",
    "        break\n",
    "    \n",
    "    #store elements in window size and calculate the average\n",
    "    output_array= np.take(input_list,range(i, window))\n",
    "    print(\"Output array of window size 3: \" + str(output_array))\n",
    "    output_list.append(int(np.average(output_array)))\n",
    "    \n",
    "#print all moving average sequence\n",
    "print(\"Moving average sequence: %s\"% output_list)"
   ]
  },
  {
   "cell_type": "code",
   "execution_count": null,
   "metadata": {},
   "outputs": [],
   "source": [
    "#Task 2"
   ]
  },
  {
   "cell_type": "code",
   "execution_count": 79,
   "metadata": {},
   "outputs": [
    {
     "data": {
      "text/html": [
       "<div>\n",
       "<style scoped>\n",
       "    .dataframe tbody tr th:only-of-type {\n",
       "        vertical-align: middle;\n",
       "    }\n",
       "\n",
       "    .dataframe tbody tr th {\n",
       "        vertical-align: top;\n",
       "    }\n",
       "\n",
       "    .dataframe thead th {\n",
       "        text-align: right;\n",
       "    }\n",
       "</style>\n",
       "<table border=\"1\" class=\"dataframe\">\n",
       "  <thead>\n",
       "    <tr style=\"text-align: right;\">\n",
       "      <th></th>\n",
       "      <th>X</th>\n",
       "      <th>Y</th>\n",
       "    </tr>\n",
       "  </thead>\n",
       "  <tbody>\n",
       "    <tr>\n",
       "      <th>0</th>\n",
       "      <td>7</td>\n",
       "      <td>1.0</td>\n",
       "    </tr>\n",
       "    <tr>\n",
       "      <th>1</th>\n",
       "      <td>2</td>\n",
       "      <td>2.0</td>\n",
       "    </tr>\n",
       "    <tr>\n",
       "      <th>2</th>\n",
       "      <td>0</td>\n",
       "      <td>0.0</td>\n",
       "    </tr>\n",
       "    <tr>\n",
       "      <th>3</th>\n",
       "      <td>3</td>\n",
       "      <td>1.0</td>\n",
       "    </tr>\n",
       "    <tr>\n",
       "      <th>4</th>\n",
       "      <td>4</td>\n",
       "      <td>2.0</td>\n",
       "    </tr>\n",
       "    <tr>\n",
       "      <th>5</th>\n",
       "      <td>2</td>\n",
       "      <td>3.0</td>\n",
       "    </tr>\n",
       "    <tr>\n",
       "      <th>6</th>\n",
       "      <td>5</td>\n",
       "      <td>4.0</td>\n",
       "    </tr>\n",
       "    <tr>\n",
       "      <th>7</th>\n",
       "      <td>0</td>\n",
       "      <td>0.0</td>\n",
       "    </tr>\n",
       "    <tr>\n",
       "      <th>8</th>\n",
       "      <td>3</td>\n",
       "      <td>1.0</td>\n",
       "    </tr>\n",
       "    <tr>\n",
       "      <th>9</th>\n",
       "      <td>4</td>\n",
       "      <td>2.0</td>\n",
       "    </tr>\n",
       "  </tbody>\n",
       "</table>\n",
       "</div>"
      ],
      "text/plain": [
       "   X    Y\n",
       "0  7  1.0\n",
       "1  2  2.0\n",
       "2  0  0.0\n",
       "3  3  1.0\n",
       "4  4  2.0\n",
       "5  2  3.0\n",
       "6  5  4.0\n",
       "7  0  0.0\n",
       "8  3  1.0\n",
       "9  4  2.0"
      ]
     },
     "execution_count": 79,
     "metadata": {},
     "output_type": "execute_result"
    }
   ],
   "source": [
    "'''1. How-to-count-distance-to-the-previous-zero \n",
    "For each value, count the difference back to the previous zero (or the start of the Series,whichever is closer)  \n",
    "create a new column 'Y' \n",
    "Consider a DataFrame df where there is an integer column 'X' \n",
    "import pandas as pd \n",
    "df = pd.DataFrame({'X': [7, 2, 0, 3, 4, 2, 5, 0, 3, 4]}) \n",
    " '''\n",
    "df = pd.DataFrame({'X': [7, 2, 0, 3, 4, 2, 5, 0, 3, 4]})\n",
    "x = (df['X'] != 0).cumsum()\n",
    "y = x != x.shift()\n",
    "df['Y'] = y.groupby((y != y.shift()).cumsum()).cumsum()\n",
    "df\n",
    "\n"
   ]
  },
  {
   "cell_type": "code",
   "execution_count": 62,
   "metadata": {},
   "outputs": [
    {
     "data": {
      "text/plain": [
       "2015-01-01    0.917259\n",
       "2015-01-02    0.786277\n",
       "2015-01-05    0.684010\n",
       "2015-01-06    0.827561\n",
       "2015-01-07    0.451768\n",
       "2015-01-08    0.782965\n",
       "2015-01-09    0.069151\n",
       "2015-01-12    0.778884\n",
       "2015-01-13    0.134762\n",
       "2015-01-14    0.248504\n",
       "2015-01-15    0.832174\n",
       "2015-01-16    0.882316\n",
       "2015-01-19    0.362342\n",
       "2015-01-20    0.423307\n",
       "2015-01-21    0.766982\n",
       "2015-01-22    0.782541\n",
       "2015-01-23    0.595198\n",
       "2015-01-26    0.600075\n",
       "2015-01-27    0.559645\n",
       "2015-01-28    0.774404\n",
       "2015-01-29    0.758573\n",
       "2015-01-30    0.257852\n",
       "2015-02-02    0.533417\n",
       "2015-02-03    0.735847\n",
       "2015-02-04    0.874047\n",
       "2015-02-05    0.368677\n",
       "2015-02-06    0.790087\n",
       "2015-02-09    0.578407\n",
       "2015-02-10    0.542157\n",
       "2015-02-11    0.644017\n",
       "                ...   \n",
       "2015-11-20    0.707522\n",
       "2015-11-23    0.265460\n",
       "2015-11-24    0.324218\n",
       "2015-11-25    0.495176\n",
       "2015-11-26    0.308519\n",
       "2015-11-27    0.278937\n",
       "2015-11-30    0.961721\n",
       "2015-12-01    0.117543\n",
       "2015-12-02    0.428062\n",
       "2015-12-03    0.270418\n",
       "2015-12-04    0.658477\n",
       "2015-12-07    0.450288\n",
       "2015-12-08    0.481079\n",
       "2015-12-09    0.164854\n",
       "2015-12-10    0.410939\n",
       "2015-12-11    0.870588\n",
       "2015-12-14    0.748184\n",
       "2015-12-15    0.627473\n",
       "2015-12-16    0.148338\n",
       "2015-12-17    0.307521\n",
       "2015-12-18    0.551914\n",
       "2015-12-21    0.281748\n",
       "2015-12-22    0.245416\n",
       "2015-12-23    0.081064\n",
       "2015-12-24    0.192791\n",
       "2015-12-25    0.571823\n",
       "2015-12-28    0.600109\n",
       "2015-12-29    0.681800\n",
       "2015-12-30    0.032882\n",
       "2015-12-31    0.694913\n",
       "Freq: B, Length: 261, dtype: float64"
      ]
     },
     "execution_count": 62,
     "metadata": {},
     "output_type": "execute_result"
    }
   ],
   "source": [
    "'''2. Create a DatetimeIndex that contains each business day of 2015 and use it to index a Series of  random numbers.''' \n",
    "import datetime as dt\n",
    "\n",
    "start = dt.date( 2015, 1, 1 )\n",
    "end = dt.date( 2015,12 ,31)\n",
    "\n",
    "\n",
    "businessDay_index = pd.date_range(start='2015-01-01', end='2015-12-31', freq='B') \n",
    "business_day = pd.Series(np.random.rand(len(businessDay_index)), index=businessDay_index)\n",
    "business_day"
   ]
  },
  {
   "cell_type": "code",
   "execution_count": 70,
   "metadata": {},
   "outputs": [
    {
     "data": {
      "text/plain": [
       "26.499509565580315"
      ]
     },
     "execution_count": 70,
     "metadata": {},
     "output_type": "execute_result"
    }
   ],
   "source": [
    "'''3.Find the sum of the values in s for every Wednesday '''\n",
    "\n",
    "business_day[businessDay_index.weekday == 2].sum()"
   ]
  },
  {
   "cell_type": "code",
   "execution_count": 71,
   "metadata": {},
   "outputs": [
    {
     "data": {
      "text/plain": [
       "1     0.603480\n",
       "2     0.594918\n",
       "3     0.483040\n",
       "4     0.472659\n",
       "5     0.472254\n",
       "6     0.492348\n",
       "7     0.584847\n",
       "8     0.452300\n",
       "9     0.503594\n",
       "10    0.530362\n",
       "11    0.490965\n",
       "12    0.418184\n",
       "dtype: float64"
      ]
     },
     "execution_count": 71,
     "metadata": {},
     "output_type": "execute_result"
    }
   ],
   "source": [
    "'''4. Average For each calendar month '''\n",
    "\n",
    "business_day.groupby(businessDay_index.month).mean()\n"
   ]
  },
  {
   "cell_type": "code",
   "execution_count": 72,
   "metadata": {},
   "outputs": [
    {
     "data": {
      "text/plain": [
       "2015-01-31   2015-01-01\n",
       "2015-05-31   2015-05-11\n",
       "2015-09-30   2015-09-10\n",
       "2016-01-31   2015-10-06\n",
       "dtype: datetime64[ns]"
      ]
     },
     "execution_count": 72,
     "metadata": {},
     "output_type": "execute_result"
    }
   ],
   "source": [
    "'''5. For each group of four consecutive calendar months in s, find the date on which the highest value occurred. '''\n",
    "business_day.groupby(pd.Grouper(freq='4M')).idxmax()"
   ]
  },
  {
   "cell_type": "code",
   "execution_count": null,
   "metadata": {},
   "outputs": [],
   "source": []
  },
  {
   "cell_type": "code",
   "execution_count": null,
   "metadata": {},
   "outputs": [],
   "source": []
  },
  {
   "cell_type": "code",
   "execution_count": null,
   "metadata": {},
   "outputs": [],
   "source": []
  },
  {
   "cell_type": "code",
   "execution_count": null,
   "metadata": {},
   "outputs": [],
   "source": []
  }
 ],
 "metadata": {
  "kernelspec": {
   "display_name": "Python 3",
   "language": "python",
   "name": "python3"
  },
  "language_info": {
   "codemirror_mode": {
    "name": "ipython",
    "version": 3
   },
   "file_extension": ".py",
   "mimetype": "text/x-python",
   "name": "python",
   "nbconvert_exporter": "python",
   "pygments_lexer": "ipython3",
   "version": "3.7.0"
  }
 },
 "nbformat": 4,
 "nbformat_minor": 2
}
